{
 "cells": [
  {
   "cell_type": "code",
   "execution_count": 1,
   "metadata": {},
   "outputs": [],
   "source": [
    "import klubplywacki, os"
   ]
  },
  {
   "cell_type": "code",
   "execution_count": 2,
   "metadata": {},
   "outputs": [
    {
     "data": {
      "text/plain": [
       "('Darek',\n",
       " '13',\n",
       " '100m',\n",
       " 'motyl',\n",
       " ['1:27,95', '1:21,07', '1:30,96', '1:23,22', '1:27,95', '1:28,30'],\n",
       " '1:26,58')"
      ]
     },
     "execution_count": 2,
     "metadata": {},
     "output_type": "execute_result"
    }
   ],
   "source": [
    "klubplywacki.read_swim_data('Darek-13-100m-motyl.txt')"
   ]
  },
  {
   "cell_type": "code",
   "execution_count": 3,
   "metadata": {},
   "outputs": [],
   "source": [
    "data = klubplywacki.read_swim_data('Darek-13-100m-motyl.txt')"
   ]
  },
  {
   "cell_type": "code",
   "execution_count": 4,
   "metadata": {},
   "outputs": [
    {
     "data": {
      "text/plain": [
       "['1:27,95', '1:21,07', '1:30,96', '1:23,22', '1:27,95', '1:28,30']"
      ]
     },
     "execution_count": 4,
     "metadata": {},
     "output_type": "execute_result"
    }
   ],
   "source": [
    "times = data[4]\n",
    "times"
   ]
  },
  {
   "cell_type": "code",
   "execution_count": 5,
   "metadata": {},
   "outputs": [],
   "source": [
    "swimmer, age, distance, stroke, times2, average = data"
   ]
  },
  {
   "cell_type": "code",
   "execution_count": null,
   "metadata": {},
   "outputs": [],
   "source": []
  },
  {
   "cell_type": "code",
   "execution_count": 6,
   "metadata": {},
   "outputs": [],
   "source": [
    "swim_files = os.listdir(klubplywacki.FOLDER)"
   ]
  },
  {
   "cell_type": "code",
   "execution_count": 7,
   "metadata": {},
   "outputs": [
    {
     "data": {
      "text/plain": [
       "61"
      ]
     },
     "execution_count": 7,
     "metadata": {},
     "output_type": "execute_result"
    }
   ],
   "source": [
    "len(swim_files)"
   ]
  },
  {
   "cell_type": "code",
   "execution_count": 8,
   "metadata": {},
   "outputs": [
    {
     "name": "stdout",
     "output_type": "stream",
     "text": [
      "['.DS_Store', 'Ala-12-100m-grzbietowy.txt', 'Ala-12-100m-kraul.txt', 'Alicja-14-100m-klasyczny.txt', 'Alicja-14-100m-kraul.txt', 'Ania-10-100m-grzbietowy.txt', 'Ania-10-100m-klasyczny.txt', 'Ania-10-50m-grzbietowy.txt', 'Ania-10-50m-klasyczny.txt', 'Ania-10-50m-kraul.txt', 'Aurora-13-50m-kraul.txt', 'Bartek-18-100m-grzbietowy.txt', 'Bartek-18-200m-grzbietowy.txt', 'Benek-15-100m-grzbietowy.txt', 'Benek-15-100m-kraul.txt', 'Benek-15-100m-motyl.txt', 'Darek-13-100m-grzbietowy.txt', 'Darek-13-100m-klasyczny.txt', 'Darek-13-100m-motyl.txt', 'Darek-13-200m-zmienny.txt', 'Dawid-17-100m-kraul.txt', 'Dawid-17-200m-grzbietowy.txt', 'Ela-14-100m-kraul.txt', 'Eliza-14-100m-grzbietowy.txt', 'Eliza-14-100m-kraul.txt', 'Emma-13-100m-klasyczny.txt', 'Emma-13-100m-kraul.txt', 'Eryka-15-100m-klasyczny.txt', 'Eryka-15-100m-kraul.txt', 'Eryka-15-200m-klasyczny.txt', 'Hanna-13-100m-grzbietowy.txt', 'Hanna-13-100m-kraul.txt', 'Karol-15-100m-grzbietowy.txt', 'Kasia-9-100m-grzbietowy.txt', 'Kasia-9-100m-klasyczny.txt', 'Kasia-9-100m-kraul.txt', 'Kasia-9-50m-grzbietowy.txt', 'Kasia-9-50m-klasyczny.txt', 'Kasia-9-50m-kraul.txt', 'Kasia-9-50m-motyl.txt', 'Konrad-9-50m-grzbietowy.txt', 'Konrad-9-50m-kraul.txt', 'Konrad-9-50m-motyl.txt', 'Krzysztof-17-100m-grzbietowy.txt', 'Krzysztof-17-100m-klasyczny.txt', 'Maria-9-50m-kraul.txt', 'Michal-15-100m-grzbietowy.txt', 'Michal-15-100m-kraul.txt', 'Michal-15-100m-motyl.txt', 'Michal-15-200m-kraul.txt', 'Michal-15-200m-zmienny.txt', 'Olek-15-100m-kraul.txt', 'Renia-13-100m-grzbietowy.txt', 'Renia-13-100m-kraul.txt', 'Renia-13-200m-grzbietowy.txt', 'Renia-13-200m-kraul.txt', 'Renia-13-400m-kraul.txt', 'Teresa-15-100m-grzbietowy.txt', 'Teresa-15-100m-klasyczny.txt', 'Teresa-15-100m-kraul.txt', 'Teresa-15-200m-klasyczny.txt']\n"
     ]
    }
   ],
   "source": [
    "print(sorted(swim_files))"
   ]
  },
  {
   "cell_type": "code",
   "execution_count": 9,
   "metadata": {},
   "outputs": [
    {
     "name": "stdout",
     "output_type": "stream",
     "text": [
      "Help on built-in function remove:\n",
      "\n",
      "remove(value, /) method of builtins.list instance\n",
      "    Remove first occurrence of value.\n",
      "\n",
      "    Raises ValueError if the value is not present.\n",
      "\n"
     ]
    }
   ],
   "source": [
    "help(swim_files.remove)"
   ]
  },
  {
   "cell_type": "code",
   "execution_count": 10,
   "metadata": {},
   "outputs": [],
   "source": [
    "swim_files.remove('.DS_Store')"
   ]
  },
  {
   "cell_type": "code",
   "execution_count": 11,
   "metadata": {},
   "outputs": [
    {
     "data": {
      "text/plain": [
       "60"
      ]
     },
     "execution_count": 11,
     "metadata": {},
     "output_type": "execute_result"
    }
   ],
   "source": [
    "len(swim_files)"
   ]
  },
  {
   "cell_type": "code",
   "execution_count": 12,
   "metadata": {},
   "outputs": [
    {
     "name": "stdout",
     "output_type": "stream",
     "text": [
      "1 Ala-12-100m-grzbietowy.txt\n",
      "2 Ala-12-100m-kraul.txt\n",
      "3 Alicja-14-100m-klasyczny.txt\n",
      "4 Alicja-14-100m-kraul.txt\n",
      "5 Ania-10-100m-grzbietowy.txt\n",
      "6 Ania-10-100m-klasyczny.txt\n",
      "7 Ania-10-50m-grzbietowy.txt\n",
      "8 Ania-10-50m-klasyczny.txt\n",
      "9 Ania-10-50m-kraul.txt\n",
      "10 Aurora-13-50m-kraul.txt\n",
      "11 Bartek-18-100m-grzbietowy.txt\n",
      "12 Bartek-18-200m-grzbietowy.txt\n",
      "13 Benek-15-100m-grzbietowy.txt\n",
      "14 Benek-15-100m-kraul.txt\n",
      "15 Benek-15-100m-motyl.txt\n",
      "16 Darek-13-100m-grzbietowy.txt\n",
      "17 Darek-13-100m-klasyczny.txt\n",
      "18 Darek-13-100m-motyl.txt\n",
      "19 Darek-13-200m-zmienny.txt\n",
      "20 Dawid-17-100m-kraul.txt\n",
      "21 Dawid-17-200m-grzbietowy.txt\n",
      "22 Ela-14-100m-kraul.txt\n",
      "23 Eliza-14-100m-grzbietowy.txt\n",
      "24 Eliza-14-100m-kraul.txt\n",
      "25 Emma-13-100m-klasyczny.txt\n",
      "26 Emma-13-100m-kraul.txt\n",
      "27 Eryka-15-100m-klasyczny.txt\n",
      "28 Eryka-15-100m-kraul.txt\n",
      "29 Eryka-15-200m-klasyczny.txt\n",
      "30 Hanna-13-100m-grzbietowy.txt\n",
      "31 Hanna-13-100m-kraul.txt\n",
      "32 Karol-15-100m-grzbietowy.txt\n",
      "33 Kasia-9-100m-grzbietowy.txt\n",
      "34 Kasia-9-100m-klasyczny.txt\n",
      "35 Kasia-9-100m-kraul.txt\n",
      "36 Kasia-9-50m-grzbietowy.txt\n",
      "37 Kasia-9-50m-klasyczny.txt\n",
      "38 Kasia-9-50m-kraul.txt\n",
      "39 Kasia-9-50m-motyl.txt\n",
      "40 Konrad-9-50m-grzbietowy.txt\n",
      "41 Konrad-9-50m-kraul.txt\n",
      "42 Konrad-9-50m-motyl.txt\n",
      "43 Krzysztof-17-100m-grzbietowy.txt\n",
      "44 Krzysztof-17-100m-klasyczny.txt\n",
      "45 Maria-9-50m-kraul.txt\n",
      "46 Michal-15-100m-grzbietowy.txt\n",
      "47 Michal-15-100m-kraul.txt\n",
      "48 Michal-15-100m-motyl.txt\n",
      "49 Michal-15-200m-kraul.txt\n",
      "50 Michal-15-200m-zmienny.txt\n",
      "51 Olek-15-100m-kraul.txt\n",
      "52 Renia-13-100m-grzbietowy.txt\n",
      "53 Renia-13-100m-kraul.txt\n",
      "54 Renia-13-200m-grzbietowy.txt\n",
      "55 Renia-13-200m-kraul.txt\n",
      "56 Renia-13-400m-kraul.txt\n",
      "57 Teresa-15-100m-grzbietowy.txt\n",
      "58 Teresa-15-100m-klasyczny.txt\n",
      "59 Teresa-15-100m-kraul.txt\n",
      "60 Teresa-15-200m-klasyczny.txt\n"
     ]
    }
   ],
   "source": [
    "for n, sf in enumerate(swim_files, 1):\n",
    "    print(n, sf)\n",
    "    klubplywacki.read_swim_data(sf)"
   ]
  },
  {
   "cell_type": "code",
   "execution_count": null,
   "metadata": {},
   "outputs": [],
   "source": []
  }
 ],
 "metadata": {
  "kernelspec": {
   "display_name": "Python 3",
   "language": "python",
   "name": "python3"
  },
  "language_info": {
   "codemirror_mode": {
    "name": "ipython",
    "version": 3
   },
   "file_extension": ".py",
   "mimetype": "text/x-python",
   "name": "python",
   "nbconvert_exporter": "python",
   "pygments_lexer": "ipython3",
   "version": "3.12.9"
  }
 },
 "nbformat": 4,
 "nbformat_minor": 2
}
