{
 "cells": [
  {
   "cell_type": "code",
   "execution_count": 49,
   "metadata": {},
   "outputs": [
    {
     "name": "stdout",
     "output_type": "stream",
     "text": [
      "60\n"
     ]
    }
   ],
   "source": [
    "import os\n",
    "import klubplywacki\n",
    "\n",
    "swim_files = os.listdir(klubplywacki.FOLDER)\n",
    "swim_files.remove(\".DS_Store\")\n",
    "\n",
    "print(len(swim_files))"
   ]
  },
  {
   "cell_type": "code",
   "execution_count": 50,
   "metadata": {},
   "outputs": [],
   "source": [
    "swimmers = []"
   ]
  },
  {
   "cell_type": "code",
   "execution_count": 51,
   "metadata": {},
   "outputs": [],
   "source": [
    "for s in swim_files:\n",
    "    swimmers.append(klubplywacki.read_swim_data(s)[0])"
   ]
  },
  {
   "cell_type": "code",
   "execution_count": 52,
   "metadata": {},
   "outputs": [
    {
     "name": "stdout",
     "output_type": "stream",
     "text": [
      "['Ala', 'Ala', 'Alicja', 'Alicja', 'Ania', 'Ania', 'Ania', 'Ania', 'Ania', 'Aurora', 'Bartek', 'Bartek', 'Benek', 'Benek', 'Benek', 'Darek', 'Darek', 'Darek', 'Darek', 'Dawid', 'Dawid', 'Ela', 'Eliza', 'Eliza', 'Emma', 'Emma', 'Eryka', 'Eryka', 'Eryka', 'Hanna', 'Hanna', 'Karol', 'Kasia', 'Kasia', 'Kasia', 'Kasia', 'Kasia', 'Kasia', 'Kasia', 'Konrad', 'Konrad', 'Konrad', 'Krzysztof', 'Krzysztof', 'Maria', 'Michal', 'Michal', 'Michal', 'Michal', 'Michal', 'Olek', 'Renia', 'Renia', 'Renia', 'Renia', 'Renia', 'Teresa', 'Teresa', 'Teresa', 'Teresa']\n"
     ]
    }
   ],
   "source": [
    "print(swimmers)"
   ]
  },
  {
   "cell_type": "code",
   "execution_count": 53,
   "metadata": {},
   "outputs": [
    {
     "name": "stdout",
     "output_type": "stream",
     "text": [
      "['Krzysztof', 'Eryka', 'Konrad', 'Benek', 'Ela', 'Darek', 'Dawid', 'Kasia', 'Karol', 'Ala', 'Bartek', 'Maria', 'Teresa', 'Aurora', 'Olek', 'Emma', 'Hanna', 'Eliza', 'Alicja', 'Ania', 'Renia', 'Michal']\n"
     ]
    }
   ],
   "source": [
    "names = list(set(swimmers))\n",
    "print(names)"
   ]
  },
  {
   "cell_type": "code",
   "execution_count": 54,
   "metadata": {},
   "outputs": [
    {
     "data": {
      "text/plain": [
       "22"
      ]
     },
     "execution_count": 54,
     "metadata": {},
     "output_type": "execute_result"
    }
   ],
   "source": [
    "len(names)"
   ]
  },
  {
   "cell_type": "code",
   "execution_count": 55,
   "metadata": {},
   "outputs": [
    {
     "name": "stdout",
     "output_type": "stream",
     "text": [
      "['Ala', 'Alicja', 'Ania', 'Aurora', 'Bartek', 'Benek', 'Darek', 'Dawid', 'Ela', 'Eliza', 'Emma', 'Eryka', 'Hanna', 'Karol', 'Kasia', 'Konrad', 'Krzysztof', 'Maria', 'Michal', 'Olek', 'Renia', 'Teresa']\n"
     ]
    }
   ],
   "source": [
    "swimmers = []\n",
    "for s in swim_files:\n",
    "    name = klubplywacki.read_swim_data(s)[0]\n",
    "    if name not in swimmers:\n",
    "        swimmers.append(name)\n",
    "print(swimmers)"
   ]
  },
  {
   "cell_type": "code",
   "execution_count": 56,
   "metadata": {},
   "outputs": [],
   "source": [
    "swimmers = []\n",
    "for s in swim_files:\n",
    "    swimmers.append((klubplywacki.read_swim_data(s)[0], s))"
   ]
  },
  {
   "cell_type": "code",
   "execution_count": 57,
   "metadata": {},
   "outputs": [
    {
     "data": {
      "text/plain": [
       "[('Ala', 'Ala-12-100m-grzbietowy.txt'),\n",
       " ('Ala', 'Ala-12-100m-kraul.txt'),\n",
       " ('Alicja', 'Alicja-14-100m-klasyczny.txt'),\n",
       " ('Alicja', 'Alicja-14-100m-kraul.txt'),\n",
       " ('Ania', 'Ania-10-100m-grzbietowy.txt'),\n",
       " ('Ania', 'Ania-10-100m-klasyczny.txt'),\n",
       " ('Ania', 'Ania-10-50m-grzbietowy.txt'),\n",
       " ('Ania', 'Ania-10-50m-klasyczny.txt'),\n",
       " ('Ania', 'Ania-10-50m-kraul.txt'),\n",
       " ('Aurora', 'Aurora-13-50m-kraul.txt'),\n",
       " ('Bartek', 'Bartek-18-100m-grzbietowy.txt'),\n",
       " ('Bartek', 'Bartek-18-200m-grzbietowy.txt'),\n",
       " ('Benek', 'Benek-15-100m-grzbietowy.txt'),\n",
       " ('Benek', 'Benek-15-100m-kraul.txt'),\n",
       " ('Benek', 'Benek-15-100m-motyl.txt'),\n",
       " ('Darek', 'Darek-13-100m-grzbietowy.txt'),\n",
       " ('Darek', 'Darek-13-100m-klasyczny.txt'),\n",
       " ('Darek', 'Darek-13-100m-motyl.txt'),\n",
       " ('Darek', 'Darek-13-200m-zmienny.txt'),\n",
       " ('Dawid', 'Dawid-17-100m-kraul.txt'),\n",
       " ('Dawid', 'Dawid-17-200m-grzbietowy.txt'),\n",
       " ('Ela', 'Ela-14-100m-kraul.txt'),\n",
       " ('Eliza', 'Eliza-14-100m-grzbietowy.txt'),\n",
       " ('Eliza', 'Eliza-14-100m-kraul.txt'),\n",
       " ('Emma', 'Emma-13-100m-klasyczny.txt'),\n",
       " ('Emma', 'Emma-13-100m-kraul.txt'),\n",
       " ('Eryka', 'Eryka-15-100m-klasyczny.txt'),\n",
       " ('Eryka', 'Eryka-15-100m-kraul.txt'),\n",
       " ('Eryka', 'Eryka-15-200m-klasyczny.txt'),\n",
       " ('Hanna', 'Hanna-13-100m-grzbietowy.txt'),\n",
       " ('Hanna', 'Hanna-13-100m-kraul.txt'),\n",
       " ('Karol', 'Karol-15-100m-grzbietowy.txt'),\n",
       " ('Kasia', 'Kasia-9-100m-grzbietowy.txt'),\n",
       " ('Kasia', 'Kasia-9-100m-klasyczny.txt'),\n",
       " ('Kasia', 'Kasia-9-100m-kraul.txt'),\n",
       " ('Kasia', 'Kasia-9-50m-grzbietowy.txt'),\n",
       " ('Kasia', 'Kasia-9-50m-klasyczny.txt'),\n",
       " ('Kasia', 'Kasia-9-50m-kraul.txt'),\n",
       " ('Kasia', 'Kasia-9-50m-motyl.txt'),\n",
       " ('Konrad', 'Konrad-9-50m-grzbietowy.txt'),\n",
       " ('Konrad', 'Konrad-9-50m-kraul.txt'),\n",
       " ('Konrad', 'Konrad-9-50m-motyl.txt'),\n",
       " ('Krzysztof', 'Krzysztof-17-100m-grzbietowy.txt'),\n",
       " ('Krzysztof', 'Krzysztof-17-100m-klasyczny.txt'),\n",
       " ('Maria', 'Maria-9-50m-kraul.txt'),\n",
       " ('Michal', 'Michal-15-100m-grzbietowy.txt'),\n",
       " ('Michal', 'Michal-15-100m-kraul.txt'),\n",
       " ('Michal', 'Michal-15-100m-motyl.txt'),\n",
       " ('Michal', 'Michal-15-200m-kraul.txt'),\n",
       " ('Michal', 'Michal-15-200m-zmienny.txt'),\n",
       " ('Olek', 'Olek-15-100m-kraul.txt'),\n",
       " ('Renia', 'Renia-13-100m-grzbietowy.txt'),\n",
       " ('Renia', 'Renia-13-100m-kraul.txt'),\n",
       " ('Renia', 'Renia-13-200m-grzbietowy.txt'),\n",
       " ('Renia', 'Renia-13-200m-kraul.txt'),\n",
       " ('Renia', 'Renia-13-400m-kraul.txt'),\n",
       " ('Teresa', 'Teresa-15-100m-grzbietowy.txt'),\n",
       " ('Teresa', 'Teresa-15-100m-klasyczny.txt'),\n",
       " ('Teresa', 'Teresa-15-100m-kraul.txt'),\n",
       " ('Teresa', 'Teresa-15-200m-klasyczny.txt')]"
      ]
     },
     "execution_count": 57,
     "metadata": {},
     "output_type": "execute_result"
    }
   ],
   "source": [
    "swimmers"
   ]
  },
  {
   "cell_type": "code",
   "execution_count": 58,
   "metadata": {},
   "outputs": [
    {
     "name": "stdout",
     "output_type": "stream",
     "text": [
      "['Ala', 'Alicja', 'Ania', 'Aurora', 'Bartek', 'Benek', 'Darek', 'Dawid', 'Ela', 'Eliza', 'Emma', 'Eryka', 'Hanna', 'Karol', 'Kasia', 'Konrad', 'Krzysztof', 'Maria', 'Michal', 'Olek', 'Renia', 'Teresa']\n"
     ]
    }
   ],
   "source": [
    "names = []\n",
    "for row in swimmers:\n",
    "    if row[0] not in names:\n",
    "        names.append(row[0])\n",
    "print(sorted(names))"
   ]
  },
  {
   "cell_type": "code",
   "execution_count": 59,
   "metadata": {},
   "outputs": [],
   "source": [
    "swimmers = {}\n",
    "for file in swim_files:\n",
    "    name = klubplywacki.read_swim_data(file)[0]\n",
    "    if name not in swimmers:\n",
    "        swimmers[name] = []\n",
    "    swimmers[name].append(file)"
   ]
  },
  {
   "cell_type": "code",
   "execution_count": 60,
   "metadata": {},
   "outputs": [
    {
     "data": {
      "text/plain": [
       "{'Ala': ['Ala-12-100m-grzbietowy.txt', 'Ala-12-100m-kraul.txt'],\n",
       " 'Alicja': ['Alicja-14-100m-klasyczny.txt', 'Alicja-14-100m-kraul.txt'],\n",
       " 'Ania': ['Ania-10-100m-grzbietowy.txt',\n",
       "  'Ania-10-100m-klasyczny.txt',\n",
       "  'Ania-10-50m-grzbietowy.txt',\n",
       "  'Ania-10-50m-klasyczny.txt',\n",
       "  'Ania-10-50m-kraul.txt'],\n",
       " 'Aurora': ['Aurora-13-50m-kraul.txt'],\n",
       " 'Bartek': ['Bartek-18-100m-grzbietowy.txt', 'Bartek-18-200m-grzbietowy.txt'],\n",
       " 'Benek': ['Benek-15-100m-grzbietowy.txt',\n",
       "  'Benek-15-100m-kraul.txt',\n",
       "  'Benek-15-100m-motyl.txt'],\n",
       " 'Darek': ['Darek-13-100m-grzbietowy.txt',\n",
       "  'Darek-13-100m-klasyczny.txt',\n",
       "  'Darek-13-100m-motyl.txt',\n",
       "  'Darek-13-200m-zmienny.txt'],\n",
       " 'Dawid': ['Dawid-17-100m-kraul.txt', 'Dawid-17-200m-grzbietowy.txt'],\n",
       " 'Ela': ['Ela-14-100m-kraul.txt'],\n",
       " 'Eliza': ['Eliza-14-100m-grzbietowy.txt', 'Eliza-14-100m-kraul.txt'],\n",
       " 'Emma': ['Emma-13-100m-klasyczny.txt', 'Emma-13-100m-kraul.txt'],\n",
       " 'Eryka': ['Eryka-15-100m-klasyczny.txt',\n",
       "  'Eryka-15-100m-kraul.txt',\n",
       "  'Eryka-15-200m-klasyczny.txt'],\n",
       " 'Hanna': ['Hanna-13-100m-grzbietowy.txt', 'Hanna-13-100m-kraul.txt'],\n",
       " 'Karol': ['Karol-15-100m-grzbietowy.txt'],\n",
       " 'Kasia': ['Kasia-9-100m-grzbietowy.txt',\n",
       "  'Kasia-9-100m-klasyczny.txt',\n",
       "  'Kasia-9-100m-kraul.txt',\n",
       "  'Kasia-9-50m-grzbietowy.txt',\n",
       "  'Kasia-9-50m-klasyczny.txt',\n",
       "  'Kasia-9-50m-kraul.txt',\n",
       "  'Kasia-9-50m-motyl.txt'],\n",
       " 'Konrad': ['Konrad-9-50m-grzbietowy.txt',\n",
       "  'Konrad-9-50m-kraul.txt',\n",
       "  'Konrad-9-50m-motyl.txt'],\n",
       " 'Krzysztof': ['Krzysztof-17-100m-grzbietowy.txt',\n",
       "  'Krzysztof-17-100m-klasyczny.txt'],\n",
       " 'Maria': ['Maria-9-50m-kraul.txt'],\n",
       " 'Michal': ['Michal-15-100m-grzbietowy.txt',\n",
       "  'Michal-15-100m-kraul.txt',\n",
       "  'Michal-15-100m-motyl.txt',\n",
       "  'Michal-15-200m-kraul.txt',\n",
       "  'Michal-15-200m-zmienny.txt'],\n",
       " 'Olek': ['Olek-15-100m-kraul.txt'],\n",
       " 'Renia': ['Renia-13-100m-grzbietowy.txt',\n",
       "  'Renia-13-100m-kraul.txt',\n",
       "  'Renia-13-200m-grzbietowy.txt',\n",
       "  'Renia-13-200m-kraul.txt',\n",
       "  'Renia-13-400m-kraul.txt'],\n",
       " 'Teresa': ['Teresa-15-100m-grzbietowy.txt',\n",
       "  'Teresa-15-100m-klasyczny.txt',\n",
       "  'Teresa-15-100m-kraul.txt',\n",
       "  'Teresa-15-200m-klasyczny.txt']}"
      ]
     },
     "execution_count": 60,
     "metadata": {},
     "output_type": "execute_result"
    }
   ],
   "source": [
    "swimmers"
   ]
  },
  {
   "cell_type": "code",
   "execution_count": 61,
   "metadata": {},
   "outputs": [
    {
     "data": {
      "text/plain": [
       "['Olek-15-100m-kraul.txt']"
      ]
     },
     "execution_count": 61,
     "metadata": {},
     "output_type": "execute_result"
    }
   ],
   "source": [
    "swimmers['Olek']"
   ]
  },
  {
   "cell_type": "code",
   "execution_count": 62,
   "metadata": {},
   "outputs": [
    {
     "name": "stdout",
     "output_type": "stream",
     "text": [
      "{'Ala': ['Ala-12-100m-grzbietowy.txt', 'Ala-12-100m-kraul.txt'],\n",
      " 'Alicja': ['Alicja-14-100m-klasyczny.txt', 'Alicja-14-100m-kraul.txt'],\n",
      " 'Ania': ['Ania-10-100m-grzbietowy.txt',\n",
      "          'Ania-10-100m-klasyczny.txt',\n",
      "          'Ania-10-50m-grzbietowy.txt',\n",
      "          'Ania-10-50m-klasyczny.txt',\n",
      "          'Ania-10-50m-kraul.txt'],\n",
      " 'Aurora': ['Aurora-13-50m-kraul.txt'],\n",
      " 'Bartek': ['Bartek-18-100m-grzbietowy.txt', 'Bartek-18-200m-grzbietowy.txt'],\n",
      " 'Benek': ['Benek-15-100m-grzbietowy.txt',\n",
      "           'Benek-15-100m-kraul.txt',\n",
      "           'Benek-15-100m-motyl.txt'],\n",
      " 'Darek': ['Darek-13-100m-grzbietowy.txt',\n",
      "           'Darek-13-100m-klasyczny.txt',\n",
      "           'Darek-13-100m-motyl.txt',\n",
      "           'Darek-13-200m-zmienny.txt'],\n",
      " 'Dawid': ['Dawid-17-100m-kraul.txt', 'Dawid-17-200m-grzbietowy.txt'],\n",
      " 'Ela': ['Ela-14-100m-kraul.txt'],\n",
      " 'Eliza': ['Eliza-14-100m-grzbietowy.txt', 'Eliza-14-100m-kraul.txt'],\n",
      " 'Emma': ['Emma-13-100m-klasyczny.txt', 'Emma-13-100m-kraul.txt'],\n",
      " 'Eryka': ['Eryka-15-100m-klasyczny.txt',\n",
      "           'Eryka-15-100m-kraul.txt',\n",
      "           'Eryka-15-200m-klasyczny.txt'],\n",
      " 'Hanna': ['Hanna-13-100m-grzbietowy.txt', 'Hanna-13-100m-kraul.txt'],\n",
      " 'Karol': ['Karol-15-100m-grzbietowy.txt'],\n",
      " 'Kasia': ['Kasia-9-100m-grzbietowy.txt',\n",
      "           'Kasia-9-100m-klasyczny.txt',\n",
      "           'Kasia-9-100m-kraul.txt',\n",
      "           'Kasia-9-50m-grzbietowy.txt',\n",
      "           'Kasia-9-50m-klasyczny.txt',\n",
      "           'Kasia-9-50m-kraul.txt',\n",
      "           'Kasia-9-50m-motyl.txt'],\n",
      " 'Konrad': ['Konrad-9-50m-grzbietowy.txt',\n",
      "            'Konrad-9-50m-kraul.txt',\n",
      "            'Konrad-9-50m-motyl.txt'],\n",
      " 'Krzysztof': ['Krzysztof-17-100m-grzbietowy.txt',\n",
      "               'Krzysztof-17-100m-klasyczny.txt'],\n",
      " 'Maria': ['Maria-9-50m-kraul.txt'],\n",
      " 'Michal': ['Michal-15-100m-grzbietowy.txt',\n",
      "            'Michal-15-100m-kraul.txt',\n",
      "            'Michal-15-100m-motyl.txt',\n",
      "            'Michal-15-200m-kraul.txt',\n",
      "            'Michal-15-200m-zmienny.txt'],\n",
      " 'Olek': ['Olek-15-100m-kraul.txt'],\n",
      " 'Renia': ['Renia-13-100m-grzbietowy.txt',\n",
      "           'Renia-13-100m-kraul.txt',\n",
      "           'Renia-13-200m-grzbietowy.txt',\n",
      "           'Renia-13-200m-kraul.txt',\n",
      "           'Renia-13-400m-kraul.txt'],\n",
      " 'Teresa': ['Teresa-15-100m-grzbietowy.txt',\n",
      "            'Teresa-15-100m-klasyczny.txt',\n",
      "            'Teresa-15-100m-kraul.txt',\n",
      "            'Teresa-15-200m-klasyczny.txt']}\n"
     ]
    }
   ],
   "source": [
    "import pprint\n",
    "pprint.pprint(swimmers)"
   ]
  },
  {
   "cell_type": "code",
   "execution_count": 63,
   "metadata": {},
   "outputs": [],
   "source": [
    "import os, webbrowser, klubplywacki\n",
    "for fname in swimmers['Ania']:\n",
    "    webbrowser.open('file://' + os.path.realpath(klubplywacki.produce_bar_chart(fname)))"
   ]
  },
  {
   "cell_type": "code",
   "execution_count": null,
   "metadata": {},
   "outputs": [],
   "source": []
  }
 ],
 "metadata": {
  "kernelspec": {
   "display_name": "Python 3",
   "language": "python",
   "name": "python3"
  },
  "language_info": {
   "codemirror_mode": {
    "name": "ipython",
    "version": 3
   },
   "file_extension": ".py",
   "mimetype": "text/x-python",
   "name": "python",
   "nbconvert_exporter": "python",
   "pygments_lexer": "ipython3",
   "version": "3.12.9"
  }
 },
 "nbformat": 4,
 "nbformat_minor": 2
}
